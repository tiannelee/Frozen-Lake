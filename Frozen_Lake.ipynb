{
 "cells": [
  {
   "cell_type": "markdown",
   "metadata": {
    "id": "xsDv26CsstHl"
   },
   "source": [
    "# Reinforcement Learning: Frozen Lake Problem\n",
    "\n",
    "In this notebook we will learn about reinforcement learning using [Open AI Gym's Frozen Lake environment](https://gym.openai.com/envs/FrozenLake-v0/). Read over the description in the link so that you understand the environment.\n",
    "\n",
    "Specifically, we will use a technique called **Value Iteration** to solve the Markov Decision Process created by Open AI Gym. With this technique we build up our agent's policy by repeatedly looping through all possible states and determining how \"good\" any given state is, or how much *value* it adds towards reaching our goal."
   ]
  },
  {
   "cell_type": "markdown",
   "metadata": {
    "id": "vZQOh0axuNYC"
   },
   "source": [
    "We start by importing the necessary modules and creating the environment."
   ]
  },
  {
   "cell_type": "code",
   "execution_count": 16,
   "metadata": {
    "colab": {
     "base_uri": "https://localhost:8080/"
    },
    "id": "aDvHmLydCCBf",
    "outputId": "a7ca3d41-e55f-45d6-a3f2-ee2c9bd6d34f"
   },
   "outputs": [],
   "source": [
    "# !pip install --upgrade gym==0.17.3\n",
    "import gym\n",
    "import time\n",
    "import statistics\n",
    "\n",
    "env = gym.make('FrozenLake8x8-v0')"
   ]
  },
  {
   "cell_type": "markdown",
   "metadata": {
    "id": "eTtOGGSeuqDm"
   },
   "source": [
    "Here we will define a function to determine the value or \"goodness\" of any given action.\n",
    "\n",
    "The function works as follows:\n",
    "\n",
    "We loop through all possible states that could follow from the given action, these possibile states are given by `possibilities`. The environment gives us the probability of going to that state as well as the reward we receive for moving to that state.\n",
    "\n",
    "The formula for the goodness of an action from the current state takes into account the reward for moving to that state, as well how \"good\" we had previously determined this state was, then it factors in the probability of actually moving to this particular state. It does this for all possible states and sums them up to figure out how \"good\" this action is.\n",
    "\n",
    "The `gamma` variable here determines how much our previous determinations\n",
    "of the next state's goodness factors into our decision.\n",
    "\n",
    "`env.P[state][action]` here serves to provide us the values of $P_a(s, s')$ and $R_a(s, s')$ from the MDP for every possible next state $s'$ from our current state (`state`) given `action`. Specifically, it gives a sequence of tuples containing the probability ($P_a(s, s')$), the next state ($s'$), and the reward ($R_a(s, s')$).\n",
    "\n",
    "This function corresponds to the\n",
    "\n",
    "$$\n",
    "\\sum_{s'} P_a(s', s)(R_a(s,s') + \\gamma V_i(s'))\n",
    "$$\n",
    "\n",
    "portion of value iteration formula."
   ]
  },
  {
   "cell_type": "code",
   "execution_count": 2,
   "metadata": {
    "id": "oUP52nkQaZEb"
   },
   "outputs": [],
   "source": [
    "# Note: this can be added in later once it is needed, might make more sense then\n",
    "def calc_action_value(state: int, action: int, state_func: list,\n",
    "                      gamma: float) -> float:\n",
    "    action_value = 0\n",
    "    # env.P[state][action] gives us the possible next states from\n",
    "    # `state` by taking `action`\n",
    "    for prob, next_state, reward, _ in env.P[state][action]:\n",
    "        action_value += prob * (reward + gamma * state_func[next_state])\n",
    "\n",
    "    return action_value"
   ]
  },
  {
   "cell_type": "markdown",
   "metadata": {
    "id": "D32_AvBqw2j-"
   },
   "source": [
    "Next we implement the Value Iteration algorithm. The purpose of this algorithm is to assign a value to each state. The greater the value of a state, the better that state is for accomplishing our goal. We accomplish this by repeatedly looping through all the states in our environment, then computing the value of that state based on the rewards available to us from that state. \n",
    "\n",
    "On repeated iterations through the states, the previously computed value of each state is also factored into a state's value calculation. For example, if we determine that one state has a high value because it is right next to the goal, then these repeated iterations would determine that states around this state also have a high value because the goal can be reached from them.\n",
    "\n",
    "Here is the algorithm for value iteration again:\n",
    "\n",
    "Loop until the left hand side is approximately equal to the right hand side:\n",
    "\n",
    "$$\n",
    "V_{i+1}(s) := \\max_a \\bigg\\{ \\sum_{s'} P_a(s', s)(R_a(s,s') + \\gamma V_i(s')) \\bigg\\}\n",
    "$$\n",
    "\n",
    "where $i$ is the iteration number, and $s$ is the current state which we are\n",
    "calculating the goodness of.\n",
    "\n",
    "\n",
    "In our code, `state_func` is the value of $V_i$, `new_state_func` is the value of $V_{i+1}$, `state` is $s$, `action` is $a$, `i` is $i$, and `gamma` is $\\gamma$."
   ]
  },
  {
   "cell_type": "code",
   "execution_count": 22,
   "metadata": {
    "colab": {
     "base_uri": "https://localhost:8080/"
    },
    "id": "16gUzMcOB665",
    "outputId": "4975dd84-1858-4745-9fc5-f7a6c5acdf47"
   },
   "outputs": [
    {
     "name": "stdout",
     "output_type": "stream",
     "text": [
      "[3, 2, 2, 2, 2, 2, 2, 2, 3, 3, 3, 3, 2, 2, 2, 1, 3, 3, 0, 3, 2, 3, 2, 1, 3, 3, 3, 3, 0, 3, 2, 1, 3, 3, 3, 3, 2, 1, 3, 2, 0, 3, 3, 2, 3, 0, 3, 2, 0, 3, 2, 3, 3, 2, 3, 2, 0, 1, 0, 3, 2, 1, 1, 3]\n"
     ]
    }
   ],
   "source": [
    "# def value_iteration(env, max_iterations=100000, gamma=0.9):\n",
    "#     \"\"\"Determines how \"good\" any given state is to be in for our actor.\n",
    "\n",
    "#     Returns: an array with a value for each state, and another array for the policy.\n",
    "#         The greater a given value in the first array, the \"better\" the state.\n",
    "#     \"\"\"\n",
    "#     # An array where each item represents how \"good\" a state is to be in\n",
    "#     state_func = [0] * env.nS\n",
    "#     # We'll update the state function gradually and use this copy to do it\n",
    "#     new_state_func = state_func.copy()\n",
    "#     # Our policy will contain the best action for any given state\n",
    "#     # Do this after the initial value iteration\n",
    "#     policy = [0] * env.nS\n",
    "\n",
    "#     # Prevent looping infinitely if our algorithm doesn't converge\n",
    "#     for i in range(max_iterations):\n",
    "#         # Loop through all possible states\n",
    "#         for state in range(env.nS):\n",
    "#             # For each state we find the best possible action to take in that state\n",
    "#             best_state_action_val = 0\n",
    "#             # Do this after the initial value iteration\n",
    "#             best_action = 0\n",
    "#             # So we try all the actions\n",
    "#             for action in range(env.nA):\n",
    "#                 state_action_val = calc_action_value(state, action, state_func, gamma)\n",
    "\n",
    "#                 # After calculating the goodness of this action, we keep it only if it is\n",
    "#                 # better than the previous best\n",
    "#                 if state_action_val > best_state_action_val:\n",
    "#                     best_state_action_val = state_action_val\n",
    "#                     # Do this after the initial value iteration\n",
    "#                     best_action = action\n",
    "\n",
    "#             # After calculating the best possible action for this state, we save how\n",
    "#             # \"good\" the best action is for the state...\n",
    "#             new_state_func[state] = best_state_action_val\n",
    "#             # And we remember the action for later\n",
    "#             # Do this after the initial value iteration\n",
    "#             policy[state] = best_action\n",
    "\n",
    "#         # After 1000 iterations, if the state function hasn't improved very much\n",
    "#         # we stop trying to improve it\n",
    "#         if i > 1000 and sum(state_func) - sum(new_state_func) < 1e-04:\n",
    "#             break\n",
    "\n",
    "#         # Otherwise we update the state function to the newly improved version\n",
    "#         state_func = new_state_func.copy()\n",
    "\n",
    "#     # After figuring out the goodness of each state and the best actions we return them\n",
    "#     return state_func, policy\n",
    "\n",
    "def value_iteration(env, max_iterations=100000, gamma=0.9):\n",
    "    \"\"\"Determines how \"good\" any given state is to be in for our actor.\n",
    "\n",
    "    Returns: an array with a value for each state, and another array for the policy.\n",
    "        The greater a given value in the first array, the \"better\" the state.\n",
    "    \"\"\"\n",
    "    # An array where each item represents how \"good\" a state is to be in\n",
    "    state_func = [0] * env.nS\n",
    "    # We'll update the state function gradually and use this copy to do it\n",
    "    new_state_func = state_func.copy()\n",
    "    # Our policy will contain the best action for any given state\n",
    "    # Do this after the initial value iteration\n",
    "    # best_actions = [0] * env.nS\n",
    "\n",
    "    # Prevent looping infinitely if our algorithm doesn't converge\n",
    "    for i in range(max_iterations):\n",
    "        # Loop through all possible states\n",
    "        for state in range(env.nS):\n",
    "            # For each state we find the best possible action to take in that state\n",
    "            best_state_action_val = 0\n",
    "            # Do this after the initial value iteration\n",
    "            best_action = 0\n",
    "            # So we try all the actions\n",
    "            for action in range(env.nA):\n",
    "                state_action_val = calc_action_value(state, action, state_func, gamma)\n",
    "\n",
    "                # After calculating the goodness of this action, we keep it only if it is\n",
    "                # better than the previous best\n",
    "                if state_action_val > best_state_action_val:\n",
    "                    best_state_action_val = state_action_val\n",
    "                    # Do this after the initial value iteration\n",
    "                    best_action = action\n",
    "                    # best_actions[state] = action\n",
    "                    \n",
    "            # After calculating the best possible action for this state, we save how\n",
    "            # \"good\" the best action is for the state...\n",
    "            new_state_func[state] = best_state_action_val\n",
    "            # And we remember the action for later\n",
    "\n",
    "        # After 1000 iterations, if the state function hasn't improved very much\n",
    "        # we stop trying to improve it\n",
    "        if i > 1000 and sum(state_func) - sum(new_state_func) < 1e-04:\n",
    "            break\n",
    "\n",
    "        # Otherwise we update the state function to the newly improved version\n",
    "        state_func = new_state_func.copy()\n",
    "    return state_func\n",
    "\n",
    "def get_policy(env, state_func, gamma=0.9):\n",
    "    policy = [0] * env.nS\n",
    "    current_state = 0\n",
    "    # Loop through all possible states\n",
    "    for state in range(env.nS):\n",
    "        for action in range(env.nA):\n",
    "            if state_func[state] == calc_action_value(state, action, state_func, gamma):\n",
    "                policy[state] = action\n",
    "    # After figuring out the goodness of each state and the best actions we return them\n",
    "    return policy\n",
    "\n",
    "env.reset()\n",
    "state_func = value_iteration(env)\n",
    "poli = get_policy(env, state_func)\n",
    "print(poli)"
   ]
  },
  {
   "cell_type": "markdown",
   "metadata": {
    "id": "aCGrs-b6HWnk"
   },
   "source": [
    "Now that we have the value or \"goodness\" of any given state, we need to use these values to build a *policy*. The policy defines the action that should be taken from any given state. This action should be based on the value of the states around the given state.\n",
    "\n",
    "For example, if we are in state `A` and moving right means we are likely to move to state `B` which a value of 2, and moving left means moving to state `C` which has a value of 1, our policy should tell us that we should take the \"right\" action instead of the \"left\".\n",
    "\n",
    "Let's go through our value iteration function above now and update it to remember the best action for each state."
   ]
  },
  {
   "cell_type": "markdown",
   "metadata": {
    "id": "IH2gxXW2K12-"
   },
   "source": [
    "Now our agent is ready to navigate its way through the frozen lake! It has a policy which will tell it the best action to take in any of the 64 states, so all we have to do is tell it to act based on the policy."
   ]
  },
  {
   "cell_type": "code",
   "execution_count": 6,
   "metadata": {
    "colab": {
     "base_uri": "https://localhost:8080/"
    },
    "id": "kdQXbwBJBVX0",
    "outputId": "ead50df0-bd8c-47ad-9d1a-e64b7aba8719"
   },
   "outputs": [
    {
     "name": "stdout",
     "output_type": "stream",
     "text": [
      "----------------------------------------------\n",
      "You took an average of 71 steps to get the frisbee\n",
      "And you fell in the hole 27.80% of the time\n",
      "----------------------------------------------\n"
     ]
    }
   ],
   "source": [
    "def get_score(env, policy, episodes=1000):\n",
    "    misses = 0\n",
    "    steps_list = []\n",
    "    best_episode = []\n",
    "    # We try to navigate the lake `episodes` number of times\n",
    "    for _ in range(episodes):\n",
    "        # We reset the environment so we're back at the start, and store the current\n",
    "        # state in `observation`\n",
    "        observation = env.reset()\n",
    "        episode = []\n",
    "        steps = 0\n",
    "        while True:\n",
    "            # We use our policy to determine the best action based on the current state\n",
    "            action = policy[observation]\n",
    "            # We tell the agent to take the action and we retrieve the new state,\n",
    "            # the reward for moving to that state, and also if we are done or not\n",
    "            observation, reward, done, _ = env.step(action)\n",
    "            # We'll save a string representation of the environment so we can watch\n",
    "            # it later\n",
    "            episode.append(env.render(mode='ansi'))\n",
    "            steps += 1\n",
    "            # If we finished and reached the goal\n",
    "            if done and reward == 1:\n",
    "                steps_list.append(steps)\n",
    "\n",
    "                # We save this episode if we reached the goal in fewer steps\n",
    "                if len(best_episode) == 0 \\\n",
    "                    or len(episode) < len(best_episode):\n",
    "                    best_episode = episode\n",
    "\n",
    "                break\n",
    "            # If we finished but fell in a hole\n",
    "            elif done and reward == 0:\n",
    "                misses += 1\n",
    "                break\n",
    "\n",
    "    print('----------------------------------------------')\n",
    "    print('You took an average of {:.0f} steps to get the frisbee'.format(\n",
    "        statistics.mean(steps_list)))\n",
    "    print('And you fell in the hole {:.2f}% of the time'.format(\n",
    "        (misses / episodes) * 100))\n",
    "    print('----------------------------------------------')\n",
    "\n",
    "    return best_episode\n",
    "\n",
    "\n",
    "best_episode = get_score(env, policy)"
   ]
  },
  {
   "cell_type": "code",
   "execution_count": 15,
   "metadata": {
    "colab": {
     "base_uri": "https://localhost:8080/"
    },
    "id": "E5W7Bq7ZolYn",
    "outputId": "85c58539-9487-40c1-c221-fc0961c90dcf"
   },
   "outputs": [
    {
     "name": "stdout",
     "output_type": "stream",
     "text": [
      "  (Right)\n",
      "SFFFFFFF\n",
      "FFFFFFFF\n",
      "FFFHFFFF\n",
      "FFFFFHFF\n",
      "FFFHFFFF\n",
      "FHHFFFHF\n",
      "FHFFHFHF\n",
      "FFFHFFF\u001b[41mG\u001b[0m\n",
      "\n"
     ]
    }
   ],
   "source": [
    "from google.colab import output\n",
    "\n",
    "for e in best_episode:\n",
    "    output.clear()\n",
    "    print(e)\n",
    "    time.sleep(0.7)"
   ]
  },
  {
   "cell_type": "markdown",
   "metadata": {
    "id": "-Chf_9g_QS1l"
   },
   "source": [
    "**Challenges**:\n",
    "\n",
    "- What's the best score you can get?\n",
    "- To test your understanding, update `value_iteration` so that it no longer builds the policy while finding the values, and create a new function `get_policy` that builds the policy based on the values returned from `value_iteration`.\n",
    "    - Hint: for every state, you will need to find the action which gives you the maximum `calc_action_value`, and save that action."
   ]
  },
  {
   "cell_type": "markdown",
   "metadata": {
    "id": "sBpVseNKqIqP"
   },
   "source": [
    "## Sources\n",
    "\n",
    "- Based on [this article](https://medium.com/analytics-vidhya/solving-the-frozenlake-environment-from-openai-gym-using-value-iteration-5a078dffe438)"
   ]
  }
 ],
 "metadata": {
  "colab": {
   "collapsed_sections": [],
   "provenance": []
  },
  "kernelspec": {
   "display_name": "Python 3",
   "language": "python",
   "name": "python3"
  },
  "language_info": {
   "codemirror_mode": {
    "name": "ipython",
    "version": 3
   },
   "file_extension": ".py",
   "mimetype": "text/x-python",
   "name": "python",
   "nbconvert_exporter": "python",
   "pygments_lexer": "ipython3",
   "version": "3.9.12"
  }
 },
 "nbformat": 4,
 "nbformat_minor": 4
}
